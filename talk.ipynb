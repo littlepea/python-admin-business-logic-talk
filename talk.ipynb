{
 "cells": [
  {
   "cell_type": "markdown",
   "metadata": {
    "slideshow": {
     "slide_type": "slide"
    }
   },
   "source": [
    "# Separating Administrative and Business Logic in Python\n",
    "\n",
    "\n",
    "---\n",
    "\n",
    "### Evgeny Demchenko\n",
    "\n",
    "* Twitter: [@littlepea](https://twitter.com/littlepea12)\n",
    "* GitHub: [littlepea](https://github.com/littlepea/)"
   ]
  },
  {
   "cell_type": "markdown",
   "metadata": {
    "slideshow": {
     "slide_type": "slide"
    }
   },
   "source": [
    "# Outline\n",
    "\n",
    "* Types of software logic/functionality?\n",
    "* Why separate business logic from the rest?\n",
    "* Practical examples"
   ]
  },
  {
   "cell_type": "markdown",
   "metadata": {
    "slideshow": {
     "slide_type": "slide"
    }
   },
   "source": [
    "# Types of logic"
   ]
  },
  {
   "cell_type": "markdown",
   "metadata": {
    "slideshow": {
     "slide_type": "fragment"
    }
   },
   "source": [
    "## Business/domain logic\n",
    "\n",
    "* Core functionality of your application\n",
    "* Domain-specific rules and entities"
   ]
  },
  {
   "cell_type": "markdown",
   "metadata": {
    "slideshow": {
     "slide_type": "fragment"
    }
   },
   "source": [
    "## Administrative logic\n",
    "\n",
    "* I/O\n",
    "* Caching\n",
    "* Making network requests\n",
    "* etc..."
   ]
  },
  {
   "cell_type": "markdown",
   "metadata": {
    "slideshow": {
     "slide_type": "fragment"
    }
   },
   "source": [
    "## Interface logic\n",
    "\n",
    "* Handling user input\n",
    "* Displaying/rendering output"
   ]
  },
  {
   "cell_type": "markdown",
   "metadata": {
    "slideshow": {
     "slide_type": "fragment"
    }
   },
   "source": [
    "## Application logic\n",
    "\n",
    "* Use cases\n",
    "* Workflows\n",
    "* Glue code"
   ]
  },
  {
   "cell_type": "markdown",
   "metadata": {
    "slideshow": {
     "slide_type": "slide"
    }
   },
   "source": [
    "# Why separate business logic from the rest?"
   ]
  },
  {
   "cell_type": "markdown",
   "metadata": {
    "slideshow": {
     "slide_type": "fragment"
    }
   },
   "source": [
    "* The core business logic should not depend on the framework or delivery mechanisms (Web, CLI, etc...)\n",
    "* Business logic should be easy to unit test without I/O or mocking\n",
    "* Business logic changes at different times and for different reasons than the rest"
   ]
  },
  {
   "cell_type": "markdown",
   "metadata": {
    "slideshow": {
     "slide_type": "slide"
    }
   },
   "source": [
    "# Example\n",
    "\n",
    "## Air Quality checking script"
   ]
  },
  {
   "cell_type": "markdown",
   "metadata": {
    "slideshow": {
     "slide_type": "fragment"
    }
   },
   "source": [
    "Let's say we want to implement a simple air quality checking script that for a specific city will tell us if the air is \"Good\", Unhealthy\", \"Hazardous\", etc:\n",
    "\n",
    "```commandline\n",
    "$ python air_quality.py Beijing\n",
    "\n",
    "Checking air quality for Beijing...\n",
    "\n",
    "The air in Beijing is Moderate (98.5)\n",
    "Feel free to go out!\n",
    "```"
   ]
  },
  {
   "cell_type": "markdown",
   "metadata": {
    "slideshow": {
     "slide_type": "slide"
    }
   },
   "source": [
    "# Requirements:"
   ]
  },
  {
   "cell_type": "markdown",
   "metadata": {
    "slideshow": {
     "slide_type": "fragment"
    }
   },
   "source": [
    "* Based on [Open AQ Platform API](https://docs.openaq.org/)\n",
    "* City is required\n",
    "* AQI for a city should be an average of PM2.5 for all stations\n",
    "* Levels are based on [World Air Quality Index project's scale](http://aqicn.org/scale/)\n",
    "* For Hazardous pollution, need to stay indoors\n",
    "* For Unhealthy levels, should wear a mask\n",
    "* Otherwise, can go outside"
   ]
  },
  {
   "cell_type": "markdown",
   "metadata": {
    "slideshow": {
     "slide_type": "subslide"
    }
   },
   "source": [
    "## Air Quality Index Scale\n",
    "\n",
    "![](https://www.evernote.com/l/AHRRR4lTCIRE2oL_Tm4hopK8beFBpN-wgQcB/image.png)"
   ]
  },
  {
   "cell_type": "markdown",
   "metadata": {
    "slideshow": {
     "slide_type": "slide"
    }
   },
   "source": [
    "# Initial implementation\n",
    "\n",
    "[air_quality.py](https://github.com/littlepea/python-admin-business-logic-talk/blob/master/before/air_quality.py)"
   ]
  },
  {
   "cell_type": "code",
   "execution_count": 1,
   "metadata": {
    "collapsed": true,
    "slideshow": {
     "slide_type": "subslide"
    }
   },
   "outputs": [],
   "source": [
    "# Let's create some useful constants\n",
    "\n",
    "from collections import OrderedDict\n",
    "\n",
    "\n",
    "API_BASE = 'https://api.openaq.org/v1/latest'\n",
    "\n",
    "AQI_LEVELS = OrderedDict()\n",
    "AQI_LEVELS[51] = {\n",
    "    'range': '0-50',\n",
    "    'level': 'Good'\n",
    "}\n",
    "AQI_LEVELS[101] = {\n",
    "    'range': '51-100',\n",
    "    'level': 'Moderate'\n",
    "}\n",
    "AQI_LEVELS[151] = {\n",
    "    'range': '101-150',\n",
    "    'level': 'Unhealthy for Sensitive Groups'\n",
    "}\n",
    "AQI_LEVELS[201] = {\n",
    "    'range': '151-200',\n",
    "    'level': 'Unhealthy',\n",
    "    'mask': True\n",
    "}\n",
    "AQI_LEVELS[301] = {\n",
    "    'range': '201-300',\n",
    "    'level': 'Very Unhealthy',\n",
    "    'maks': True\n",
    "}\n",
    "AQI_LEVELS[10000] = {\n",
    "    'range': '300+',\n",
    "    'level': 'Hazardous',\n",
    "    'indoors': True\n",
    "}\n",
    "\n",
    "CACHE = {}"
   ]
  },
  {
   "cell_type": "code",
   "execution_count": 2,
   "metadata": {
    "collapsed": true,
    "slideshow": {
     "slide_type": "subslide"
    }
   },
   "outputs": [],
   "source": [
    "# Main code of the application\n",
    "\n",
    "import urllib2\n",
    "import json\n",
    "\n",
    "def main(city):\n",
    "    print('\\nChecking air quality for {}...\\n'.format(city))\n",
    "\n",
    "    # Check cache\n",
    "    stations = CACHE.get(city)\n",
    "\n",
    "    if not stations:\n",
    "        try:\n",
    "            # Call the API\n",
    "            url = '{}?city={}'.format(API_BASE, city)\n",
    "            response = urllib2.urlopen(url)\n",
    "            results = json.load(response)\n",
    "            stations = results['results']\n",
    "\n",
    "            # Write to cache\n",
    "            CACHE[city] = stations\n",
    "        except urllib2.HTTPError, e:\n",
    "            print('Could not retrieve results from the server: {}'.format(e))\n",
    "            return\n",
    "\n",
    "    if not stations:\n",
    "        print('No stations found in {}'.format(city))\n",
    "        return\n",
    "\n",
    "    # Get PM2.5 values from all stations\n",
    "    pm25 = [\n",
    "        measurement['value']\n",
    "        for station in stations\n",
    "        for measurement in station['measurements']\n",
    "        if measurement['parameter'] == 'pm25'\n",
    "    ]\n",
    "\n",
    "    # Calculate average PM2.5\n",
    "    average_pm25 = sum(pm25, 0.0) / len(pm25)\n",
    "\n",
    "    # Find the right AQI level\n",
    "    aqi = None\n",
    "    for ceiling, level in AQI_LEVELS.items():\n",
    "        if average_pm25 < ceiling:\n",
    "            aqi = level\n",
    "            break\n",
    "\n",
    "    # Display the AQI level to the user\n",
    "    print('The air in {} is {} ({})'.format(\n",
    "        city,\n",
    "        aqi['level'],\n",
    "        average_pm25\n",
    "    ))\n",
    "\n",
    "    if aqi.get('indoors'):\n",
    "        print('Please, stay indoors with purified air.')\n",
    "    elif aqi.get('mask'):\n",
    "        print('Please, wear a mask if going out.')\n",
    "    else:\n",
    "        print('Feel free to go out!')"
   ]
  },
  {
   "cell_type": "code",
   "execution_count": 3,
   "metadata": {
    "slideshow": {
     "slide_type": "subslide"
    }
   },
   "outputs": [
    {
     "name": "stdout",
     "output_type": "stream",
     "text": [
      "\n",
      "Checking air quality for Beijing...\n",
      "\n",
      "The air in Beijing is Unhealthy for Sensitive Groups (108.0)\n",
      "Feel free to go out!\n"
     ]
    }
   ],
   "source": [
    "# Run it!\n",
    "\n",
    "main('Beijing')"
   ]
  },
  {
   "cell_type": "markdown",
   "metadata": {
    "slideshow": {
     "slide_type": "slide"
    }
   },
   "source": [
    "# Separating the Business Logic"
   ]
  },
  {
   "cell_type": "code",
   "execution_count": 4,
   "metadata": {
    "collapsed": true,
    "slideshow": {
     "slide_type": "subslide"
    }
   },
   "outputs": [],
   "source": [
    "from collections import OrderedDict, namedtuple\n",
    "\n",
    "\n",
    "Station = namedtuple('Station', ['name', 'pm25'])\n",
    "Level = namedtuple('Level', ['name', 'aqi', 'mask', 'indoors'])\n",
    "\n",
    "\n",
    "AQI_LEVELS = OrderedDict()\n",
    "AQI_LEVELS[51] = {\n",
    "    'range': '0-50',\n",
    "    'level': 'Good'\n",
    "}\n",
    "AQI_LEVELS[101] = {\n",
    "    'range': '51-100',\n",
    "    'level': 'Moderate'\n",
    "}\n",
    "AQI_LEVELS[151] = {\n",
    "    'range': '101-150',\n",
    "    'level': 'Unhealthy for Sensitive Groups'\n",
    "}\n",
    "AQI_LEVELS[201] = {\n",
    "    'range': '151-200',\n",
    "    'level': 'Unhealthy',\n",
    "    'mask': True\n",
    "}\n",
    "AQI_LEVELS[301] = {\n",
    "    'range': '201-300',\n",
    "    'level': 'Very Unhealthy',\n",
    "    'maks': True\n",
    "}\n",
    "AQI_LEVELS[10000] = {\n",
    "    'range': '300+',\n",
    "    'level': 'Hazardous',\n",
    "    'indoors': True\n",
    "}\n",
    "\n",
    "\n",
    "def city_aqi(stations):\n",
    "    pm25 = [station.pm25 for station in stations]\n",
    "    return sum(pm25, 0.0) / len(pm25)\n",
    "\n",
    "\n",
    "def aqi_level(aqi):\n",
    "    for ceiling, level in AQI_LEVELS.items():\n",
    "        if aqi < ceiling:\n",
    "            return Level(\n",
    "                name=level['level'],\n",
    "                aqi=aqi,\n",
    "                mask=level.get('mask', False),\n",
    "                indoors=level.get('indoors', False))\n"
   ]
  },
  {
   "cell_type": "markdown",
   "metadata": {
    "slideshow": {
     "slide_type": "subslide"
    }
   },
   "source": [
    "## Now our main function becomes:"
   ]
  },
  {
   "cell_type": "code",
   "execution_count": 5,
   "metadata": {
    "collapsed": true,
    "slideshow": {
     "slide_type": "fragment"
    }
   },
   "outputs": [],
   "source": [
    "def main(city):\n",
    "    print('\\nChecking air quality for {}...\\n'.format(city))\n",
    "\n",
    "    # Check cache\n",
    "    stations = CACHE.get(city, [])\n",
    "\n",
    "    if not stations:\n",
    "        try:\n",
    "            # Call the API\n",
    "            url = '{}?city={}'.format(API_BASE, city)\n",
    "            response = urllib2.urlopen(url)\n",
    "            results = json.load(response)\n",
    "            for result in results['results']:\n",
    "                pm25 = None\n",
    "                for measurement in result['measurements']:\n",
    "                    if measurement['parameter'] == 'pm25':\n",
    "                        pm25 = measurement['value']\n",
    "\n",
    "                stations.append(Station(\n",
    "                    name=result['location'],\n",
    "                    pm25=pm25))\n",
    "\n",
    "            # Write to cache\n",
    "            CACHE[city] = stations\n",
    "        except urllib2.HTTPError, e:\n",
    "            print('Could not retrieve results from the server: {}'.format(e))\n",
    "            return\n",
    "\n",
    "    if not stations:\n",
    "        print('No stations found in {}'.format(city))\n",
    "        return\n",
    "\n",
    "    level = aqi_level(city_aqi(stations))  # Business logic !\n",
    "\n",
    "    # Display the AQI level to the user\n",
    "    print('The air in {} is {} ({})'.format(\n",
    "        city,\n",
    "        level.name,\n",
    "        level.aqi\n",
    "    ))\n",
    "\n",
    "    if level.indoors:\n",
    "        print('Please, stay indoors with purified air.')\n",
    "    elif level.mask:\n",
    "        print('Please, wear a mask if going out.')\n",
    "    else:\n",
    "        print('Feel free to go out!')"
   ]
  },
  {
   "cell_type": "markdown",
   "metadata": {
    "slideshow": {
     "slide_type": "slide"
    }
   },
   "source": [
    "# Separating the Application Logic"
   ]
  },
  {
   "cell_type": "code",
   "execution_count": 6,
   "metadata": {
    "collapsed": true,
    "slideshow": {
     "slide_type": "subslide"
    }
   },
   "outputs": [],
   "source": [
    "API_BASE = 'https://api.openaq.org/v1/latest'\n",
    "CACHE = {}\n",
    "\n",
    "\n",
    "def _get_city_url(city):\n",
    "    return '{}?city={}'.format(API_BASE, city)\n",
    "\n",
    "\n",
    "def _load_results(url):\n",
    "    try:\n",
    "        response = urllib2.urlopen(url)\n",
    "        results = json.load(response)\n",
    "        return results['results']\n",
    "    except urllib2.HTTPError, e:\n",
    "        return []\n",
    "\n",
    "\n",
    "def _get_station_pm25(station):\n",
    "    for measurement in station['measurements']:\n",
    "        if measurement['parameter'] == 'pm25':\n",
    "            return measurement['value']\n",
    "\n",
    "\n",
    "def get_stations(city):\n",
    "    # Check cache\n",
    "    stations = CACHE.get(city, [])\n",
    "\n",
    "    if not stations:\n",
    "        for result in _load_results(_get_city_url(city)):\n",
    "            stations.append(Station(\n",
    "                name=result['location'],\n",
    "                pm25=_get_station_pm25(result)))\n",
    "\n",
    "        # Write to cache\n",
    "        CACHE[city] = stations\n",
    "\n",
    "    return stations\n",
    "\n",
    "\n",
    "def get_recommendation(level):\n",
    "    if level.indoors:\n",
    "        return 'Please, stay indoors with purified air.'\n",
    "\n",
    "    if level.mask:\n",
    "        return 'Please, wear a mask if going out.'\n",
    "\n",
    "    return 'Feel free to go out!'"
   ]
  },
  {
   "cell_type": "markdown",
   "metadata": {
    "slideshow": {
     "slide_type": "subslide"
    }
   },
   "source": [
    "## Now our main function becomes:"
   ]
  },
  {
   "cell_type": "code",
   "execution_count": 7,
   "metadata": {
    "collapsed": true,
    "slideshow": {
     "slide_type": "fragment"
    }
   },
   "outputs": [],
   "source": [
    "def main(city):\n",
    "    print('\\nChecking air quality for {}...\\n'.format(city))\n",
    "\n",
    "    stations = get_stations(city)\n",
    "\n",
    "    if not stations:\n",
    "        print('No stations found in {}'.format(city))\n",
    "        return\n",
    "\n",
    "    level = aqi_level(city_aqi(stations))\n",
    "    recommendation = get_recommendation(level)\n",
    "    \n",
    "    print('The air in {} is {} ({})'.format(city, level.name, level.aqi))\n",
    "    print(recommendation)"
   ]
  },
  {
   "cell_type": "markdown",
   "metadata": {
    "slideshow": {
     "slide_type": "slide"
    }
   },
   "source": [
    "# Separating the Administration Logic"
   ]
  },
  {
   "cell_type": "code",
   "execution_count": 8,
   "metadata": {
    "collapsed": true,
    "slideshow": {
     "slide_type": "subslide"
    }
   },
   "outputs": [],
   "source": [
    "CACHE = {}\n",
    "\n",
    "\n",
    "def cache(func):\n",
    "    def wrapper(*args):\n",
    "        key = '{}_{}'.format(\n",
    "            func.__name__,\n",
    "            '-'.join(args)\n",
    "        )\n",
    "        value = CACHE.get(key) or func(*args)\n",
    "        CACHE[key] = value\n",
    "        return value\n",
    "\n",
    "    return wrapper"
   ]
  },
  {
   "cell_type": "markdown",
   "metadata": {
    "slideshow": {
     "slide_type": "subslide"
    }
   },
   "source": [
    "## Now application logic is simpler:"
   ]
  },
  {
   "cell_type": "code",
   "execution_count": 9,
   "metadata": {
    "collapsed": true,
    "slideshow": {
     "slide_type": "fragment"
    }
   },
   "outputs": [],
   "source": [
    "@cache\n",
    "def get_stations(city):\n",
    "    return [\n",
    "        Station(\n",
    "            name=result['location'],\n",
    "            pm25=_get_station_pm25(result))\n",
    "        for result in _load_results(_get_city_url(city))\n",
    "    ]"
   ]
  },
  {
   "cell_type": "markdown",
   "metadata": {
    "slideshow": {
     "slide_type": "fragment"
    }
   },
   "source": [
    "### Instead of:"
   ]
  },
  {
   "cell_type": "code",
   "execution_count": 10,
   "metadata": {
    "collapsed": true,
    "slideshow": {
     "slide_type": "fragment"
    }
   },
   "outputs": [],
   "source": [
    "def get_stations(city):\n",
    "    # Check cache\n",
    "    stations = CACHE.get(city, [])\n",
    "\n",
    "    if not stations:\n",
    "        for result in _load_results(_get_city_url(city)):\n",
    "            stations.append(Station(\n",
    "                name=result['location'],\n",
    "                pm25=_get_station_pm25(result)))\n",
    "\n",
    "        # Write to cache\n",
    "        CACHE[city] = stations\n",
    "\n",
    "    return stations"
   ]
  },
  {
   "cell_type": "markdown",
   "metadata": {
    "slideshow": {
     "slide_type": "slide"
    }
   },
   "source": [
    "## Final modules structure:\n",
    "\n",
    "* [app.py](https://github.com/littlepea/python-admin-business-logic-talk/blob/master/after/app.py) (Application Logic)\n",
    "* [aqi.py](https://github.com/littlepea/python-admin-business-logic-talk/blob/master/after/aqi.py) (Business Logic)\n",
    "* [cache.py](https://github.com/littlepea/python-admin-business-logic-talk/blob/master/after/cache.py) (Administration Logic)\n",
    "* [cli.py](https://github.com/littlepea/python-admin-business-logic-talk/blob/master/after/cli.py) (Interface Logic)"
   ]
  },
  {
   "cell_type": "markdown",
   "metadata": {
    "slideshow": {
     "slide_type": "fragment"
    }
   },
   "source": [
    "Let's run it!"
   ]
  },
  {
   "cell_type": "code",
   "execution_count": 11,
   "metadata": {
    "slideshow": {
     "slide_type": "fragment"
    }
   },
   "outputs": [
    {
     "name": "stdout",
     "output_type": "stream",
     "text": [
      "\n",
      "Checking air quality for Beijing...\n",
      "\n",
      "The air in Beijing is Unhealthy for Sensitive Groups (108.0)\n",
      "Feel free to go out!\n"
     ]
    }
   ],
   "source": [
    "main('Beijing')"
   ]
  },
  {
   "cell_type": "markdown",
   "metadata": {
    "slideshow": {
     "slide_type": "slide"
    }
   },
   "source": [
    "# Architecture\n",
    "\n",
    "This can be considered to be an extremely simplified example of the [Onion Architecture](https://dzone.com/articles/onion-architecture-is-interesting).\n",
    "\n",
    "![](http://tidyjava.com/wp-content/uploads/2017/02/obrazek_2.png)"
   ]
  },
  {
   "cell_type": "markdown",
   "metadata": {
    "slideshow": {
     "slide_type": "slide"
    }
   },
   "source": [
    "# Benefits\n",
    "\n",
    "### Better Domain Modelling\n",
    "\n",
    "The whole application is built on top of well-defined domain logic.\n",
    "  \n",
    "### Directed coupling\n",
    "\n",
    "The most important code depends on nothing, everything depends on it.\n",
    "  \n",
    "### Flexibility\n",
    "\n",
    "From the inner layer perspective you can swap anything in the outer layers and everything will still work fine.\n",
    "  \n",
    "### Testeability\n",
    "\n",
    "The application core has no dependencies and can easily be tested in isolation."
   ]
  },
  {
   "cell_type": "markdown",
   "metadata": {
    "slideshow": {
     "slide_type": "slide"
    }
   },
   "source": [
    "# Testeability\n",
    "\n",
    "Now we can test the Business Logic in isonation without mocking anything:"
   ]
  },
  {
   "cell_type": "code",
   "execution_count": 12,
   "metadata": {
    "scrolled": true,
    "slideshow": {
     "slide_type": "subslide"
    }
   },
   "outputs": [
    {
     "name": "stderr",
     "output_type": "stream",
     "text": [
      "test_good_aqi_level (__main__.AqiLevelTest) ... ok\n",
      "test_hazardous_aqi_level (__main__.AqiLevelTest) ... ok\n",
      "test_unhealthy_aqi_level (__main__.AqiLevelTest) ... ok\n",
      "test_city_aqi (__main__.CityAqiTest) ... ok\n",
      "\n",
      "----------------------------------------------------------------------\n",
      "Ran 4 tests in 0.004s\n",
      "\n",
      "OK\n"
     ]
    },
    {
     "data": {
      "text/plain": [
       "<unittest.main.TestProgram at 0x1034e0dd0>"
      ]
     },
     "execution_count": 12,
     "metadata": {},
     "output_type": "execute_result"
    }
   ],
   "source": [
    "import unittest\n",
    "\n",
    "\n",
    "class CityAqiTest(unittest.TestCase):\n",
    "    def test_city_aqi(self):\n",
    "        stations = [Station('s1', 100), Station('s2', 30), Station('s3', 20)]\n",
    "        self.assertEqual(50, city_aqi(stations))\n",
    "\n",
    "\n",
    "class AqiLevelTest(unittest.TestCase):\n",
    "    def test_good_aqi_level(self):\n",
    "        level = aqi_level(50)\n",
    "        self.assertEqual('Good', level.name)\n",
    "        self.assertFalse(level.mask)\n",
    "\n",
    "    def test_unhealthy_aqi_level(self):\n",
    "        level = aqi_level(180)\n",
    "        self.assertEqual('Unhealthy', level.name)\n",
    "        self.assertTrue(level.mask)\n",
    "\n",
    "    def test_hazardous_aqi_level(self):\n",
    "        level = aqi_level(800)\n",
    "        self.assertEqual('Hazardous', level.name)\n",
    "        self.assertTrue(level.indoors)\n",
    "        \n",
    "\n",
    "unittest.main(argv=['ignored', '-v'], exit=False)"
   ]
  },
  {
   "cell_type": "markdown",
   "metadata": {
    "slideshow": {
     "slide_type": "slide"
    }
   },
   "source": [
    "# Flexibility\n",
    "\n",
    "Let's say we've decided to use median instead of average for city AQI:"
   ]
  },
  {
   "cell_type": "code",
   "execution_count": 13,
   "metadata": {
    "collapsed": true,
    "slideshow": {
     "slide_type": "fragment"
    }
   },
   "outputs": [],
   "source": [
    "def median(numbers):\n",
    "    return (sorted(numbers)[int(round((len(numbers) - 1) / 2.0))] +\n",
    "            sorted(numbers)[int(round((len(numbers) - 1) // 2.0))]) / 2.0\n",
    "\n",
    "\n",
    "def city_aqi(stations):\n",
    "    pm25 = [station.pm25 for station in stations]\n",
    "    return median(pm25)"
   ]
  },
  {
   "cell_type": "markdown",
   "metadata": {
    "slideshow": {
     "slide_type": "subslide"
    }
   },
   "source": [
    "Then we update the tests and they still pass:"
   ]
  },
  {
   "cell_type": "code",
   "execution_count": 15,
   "metadata": {
    "slideshow": {
     "slide_type": "fragment"
    }
   },
   "outputs": [
    {
     "name": "stderr",
     "output_type": "stream",
     "text": [
      "test_good_aqi_level (__main__.AqiLevelTest) ... ok\n",
      "test_hazardous_aqi_level (__main__.AqiLevelTest) ... ok\n",
      "test_unhealthy_aqi_level (__main__.AqiLevelTest) ... ok\n",
      "test_city_aqi (__main__.CityAqiTest) ... ok\n",
      "\n",
      "----------------------------------------------------------------------\n",
      "Ran 4 tests in 0.004s\n",
      "\n",
      "OK\n"
     ]
    },
    {
     "data": {
      "text/plain": [
       "<unittest.main.TestProgram at 0x1034bc910>"
      ]
     },
     "execution_count": 15,
     "metadata": {},
     "output_type": "execute_result"
    }
   ],
   "source": [
    "class CityAqiTest(unittest.TestCase):\n",
    "    def test_city_aqi(self):\n",
    "        stations = [Station('s1', 100), Station('s2', 30), Station('s3', 20)]\n",
    "        self.assertEqual(30, city_aqi(stations))\n",
    "        \n",
    "unittest.main(argv=['ignored', '-v'], exit=False)"
   ]
  },
  {
   "cell_type": "markdown",
   "metadata": {
    "slideshow": {
     "slide_type": "subslide"
    }
   },
   "source": [
    "And the main program still working:"
   ]
  },
  {
   "cell_type": "code",
   "execution_count": 17,
   "metadata": {
    "slideshow": {
     "slide_type": "fragment"
    }
   },
   "outputs": [
    {
     "name": "stdout",
     "output_type": "stream",
     "text": [
      "\n",
      "Checking air quality for Beijing...\n",
      "\n",
      "The air in Beijing is Unhealthy for Sensitive Groups (108.0)\n",
      "Feel free to go out!\n"
     ]
    }
   ],
   "source": [
    "main('Beijing')"
   ]
  },
  {
   "cell_type": "markdown",
   "metadata": {
    "slideshow": {
     "slide_type": "slide"
    }
   },
   "source": [
    "# Q & A\n",
    "\n",
    "---\n",
    "\n",
    "### Evgeny Demchenko\n",
    "\n",
    "* Twitter: [@littlepea](https://twitter.com/littlepea12)\n",
    "* GitHub: [littlepea](https://github.com/littlepea/)"
   ]
  }
 ],
 "metadata": {
  "celltoolbar": "Slideshow",
  "kernelspec": {
   "display_name": "Python 2",
   "language": "python",
   "name": "python2"
  },
  "language_info": {
   "codemirror_mode": {
    "name": "ipython",
    "version": 2
   },
   "file_extension": ".py",
   "mimetype": "text/x-python",
   "name": "python",
   "nbconvert_exporter": "python",
   "pygments_lexer": "ipython2",
   "version": "2.7.13"
  }
 },
 "nbformat": 4,
 "nbformat_minor": 1
}
